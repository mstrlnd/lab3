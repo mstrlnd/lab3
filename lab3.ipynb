{
 "cells": [
  {
   "cell_type": "code",
   "execution_count": null,
   "id": "9a56dd66-bfdd-495e-b305-463e8e57b4f4",
   "metadata": {},
   "outputs": [],
   "source": [
    "#imports\n",
    "import pandas as pd\n",
    "import seaborn as sns\n",
    "import matplotlib.pylab as plt"
   ]
  },
  {
   "cell_type": "code",
   "execution_count": null,
   "id": "6c88f869-1bdb-46a5-9a76-28b61588e919",
   "metadata": {},
   "outputs": [],
   "source": [
    "#load data\n",
    "df = pd.read_csv('cdc.csv')\n",
    "#number of rows of data and the number of variables - How many rows are there?  How many variables?\n",
    "df.shape"
   ]
  },
  {
   "cell_type": "code",
   "execution_count": null,
   "id": "f5a721aa-0e4d-4291-b401-c0ccac984953",
   "metadata": {},
   "outputs": [],
   "source": [
    "#preview the first 5 rows of data (some variables might get cut off)\n",
    "df.head()"
   ]
  },
  {
   "cell_type": "code",
   "execution_count": null,
   "id": "46ead6f3-aed7-472d-aad3-31fd472d7d06",
   "metadata": {},
   "outputs": [],
   "source": [
    "#Check the datatypes.  \"object\" is categorical.  \"int64\" and \"float64\" are numerical \n",
    "#Which variables are categorical?\n",
    "df.dtypes"
   ]
  },
  {
   "cell_type": "code",
   "execution_count": null,
   "id": "0f86d5d3-bf21-4b75-a06c-654abd7da1a7",
   "metadata": {},
   "outputs": [],
   "source": [
    "sns.scatterplot(data=df, x='weight', y='height')"
   ]
  },
  {
   "cell_type": "code",
   "execution_count": null,
   "id": "45fa625d-8c1b-43b6-a06e-ff93d9e9e719",
   "metadata": {},
   "outputs": [],
   "source": [
    "sns.scatterplot(data=df, x='weight', y='height', hue='gender')"
   ]
  },
  {
   "cell_type": "code",
   "execution_count": null,
   "id": "6c1923e7-9714-46b7-931c-3a8caa4d3b7e",
   "metadata": {},
   "outputs": [],
   "source": [
    "#load data\n",
    "df = pd.read_csv('Food Habits.csv')\n",
    "#number of rows of data and the number of variables - How many rows are there?  How many variables?\n",
    "df.shape"
   ]
  },
  {
   "cell_type": "code",
   "execution_count": null,
   "id": "5b42625a-c161-4442-87cb-077b8e4af5bf",
   "metadata": {},
   "outputs": [],
   "source": [
    "#preview the first 5 rows of data (some variables might get cut off)\n",
    "df.head()"
   ]
  },
  {
   "cell_type": "code",
   "execution_count": null,
   "id": "57c3430e-ce03-4358-a149-1d15d58514b2",
   "metadata": {},
   "outputs": [],
   "source": [
    "#Check the datatypes.  \"object\" is categorical.  \"int64\" and \"float64\" are numerical \n",
    "#Which variables are categorical?\n",
    "df.dtypes"
   ]
  },
  {
   "cell_type": "markdown",
   "id": "43775113-96a8-4536-ad4e-362f80061b0a",
   "metadata": {},
   "source": [
    "Data Cycle</br>\n",
    "1. Write a Statistical that can be answered with a scatterplot</br>\n",
    "Example: What is the relationship between ___ and ___?</br>\n",
    "\n",
    "2. Make at least 1 plot to find your answer.</br>\n",
    "3. Include your interpretations.</br>\n",
    "4. List at least 1 other question you would like to research.</br>\n",
    "Optional: Research some of your other questions.</br>"
   ]
  },
  {
   "cell_type": "code",
   "execution_count": null,
   "id": "99174cb2-e370-47b3-9b57-b0a0666636e0",
   "metadata": {},
   "outputs": [],
   "source": []
  }
 ],
 "metadata": {
  "kernelspec": {
   "display_name": "Python 3 (ipykernel)",
   "language": "python",
   "name": "python3"
  },
  "language_info": {
   "codemirror_mode": {
    "name": "ipython",
    "version": 3
   },
   "file_extension": ".py",
   "mimetype": "text/x-python",
   "name": "python",
   "nbconvert_exporter": "python",
   "pygments_lexer": "ipython3",
   "version": "3.9.12"
  }
 },
 "nbformat": 4,
 "nbformat_minor": 5
}
